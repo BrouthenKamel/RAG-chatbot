{
  "cells": [
    {
      "cell_type": "markdown",
      "id": "aYmuH-Ij_DUh",
      "metadata": {
        "id": "aYmuH-Ij_DUh"
      },
      "source": [
        "# ChromaDB: A Comprehensive Guide\n",
        "This guide introduces ChromaDB, a powerful vector database, through a step-by-step tutorial covering setup, data management, querying, and advanced use cases using a custom dataset."
      ]
    },
    {
      "cell_type": "markdown",
      "id": "UBZ3EER7_M0b",
      "metadata": {
        "id": "UBZ3EER7_M0b"
      },
      "source": [
        "## 1. Installation\n",
        "\n",
        "To install ChromaDB, use the following command:"
      ]
    },
    {
      "cell_type": "code",
      "execution_count": null,
      "id": "xjibHpCs_L2Y",
      "metadata": {
        "id": "xjibHpCs_L2Y"
      },
      "outputs": [],
      "source": [
        "!pip install chromadb"
      ]
    },
    {
      "cell_type": "markdown",
      "id": "edpX-7vP_Rrz",
      "metadata": {
        "id": "edpX-7vP_Rrz"
      },
      "source": [
        "## 2. Importing ChromaDB & packages\n",
        "\n",
        "Import ChromaDB into your Python environment:"
      ]
    },
    {
      "cell_type": "code",
      "execution_count": null,
      "id": "fFJhiJXG_UUc",
      "metadata": {
        "id": "fFJhiJXG_UUc"
      },
      "outputs": [],
      "source": [
        "import chromadb"
      ]
    },
    {
      "cell_type": "code",
      "execution_count": null,
      "id": "4jMSiVOrD4Ry",
      "metadata": {
        "id": "4jMSiVOrD4Ry"
      },
      "outputs": [],
      "source": [
        "from pprint import pprint # pretty prints"
      ]
    },
    {
      "cell_type": "code",
      "execution_count": null,
      "id": "73f8c36d",
      "metadata": {},
      "outputs": [],
      "source": [
        "import numpy as np # for the random generation of a vector"
      ]
    },
    {
      "cell_type": "markdown",
      "id": "mk3VO52W_dES",
      "metadata": {
        "id": "mk3VO52W_dES"
      },
      "source": [
        "## 3. Creating a ChromaDB Client\n",
        "\n",
        "ChromaDB offers three types of clients:"
      ]
    },
    {
      "cell_type": "markdown",
      "id": "FETO4v0i_ft1",
      "metadata": {
        "id": "FETO4v0i_ft1"
      },
      "source": [
        "1. **Ephemeral Client**: Stores data temporarily in memory, useful for short-term tasks."
      ]
    },
    {
      "cell_type": "code",
      "execution_count": null,
      "id": "q8AftbvP_h-j",
      "metadata": {
        "id": "q8AftbvP_h-j"
      },
      "outputs": [],
      "source": [
        "chroma_client = chromadb.Client()"
      ]
    },
    {
      "cell_type": "markdown",
      "id": "b3m2GAv6_jSg",
      "metadata": {
        "id": "b3m2GAv6_jSg"
      },
      "source": [
        "2. **Persistent Client**: Saves data to disk for longer-term storage."
      ]
    },
    {
      "cell_type": "code",
      "execution_count": null,
      "id": "Cf3-yVx9_oJh",
      "metadata": {
        "id": "Cf3-yVx9_oJh"
      },
      "outputs": [],
      "source": [
        "# chroma_client = chromadb.PersistentClient(path='/content/chroma')"
      ]
    },
    {
      "cell_type": "markdown",
      "id": "mJ9dWhpO_wb7",
      "metadata": {
        "id": "mJ9dWhpO_wb7"
      },
      "source": [
        "3. **HTTP Client**: Connects to a remote instance via HTTP."
      ]
    },
    {
      "cell_type": "code",
      "execution_count": null,
      "id": "qBxsaKV6_z_U",
      "metadata": {
        "id": "qBxsaKV6_z_U"
      },
      "outputs": [],
      "source": [
        "# chroma_client = chromadb.HttpClient(host='localhost', port=8000)"
      ]
    },
    {
      "cell_type": "markdown",
      "id": "ASBAtyRc_5OB",
      "metadata": {
        "id": "ASBAtyRc_5OB"
      },
      "source": [
        "For simplicity, we’ll use the **Ephemeral Client** in this guide."
      ]
    },
    {
      "cell_type": "markdown",
      "id": "LhqlOvmf_7rV",
      "metadata": {
        "id": "LhqlOvmf_7rV"
      },
      "source": [
        "## 4. Creating a Collection with Configuration\n",
        "When creating a collection, you can configure various settings to optimize performance and define how the data is structured. Here’s a script that creates a collection with advanced configuration:"
      ]
    },
    {
      "cell_type": "markdown",
      "id": "AspDWS-_ApXE",
      "metadata": {
        "id": "AspDWS-_ApXE"
      },
      "source": [
        "### Explanation of Configuration Parameters:\n",
        "\n",
        "![Screenshot from 2025-01-12 01-57-28.png](data:image/png;base64,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)\n",
        "\n",
        "1. **`name`**: The name you assign to the collection. It's how you reference the collection within ChromaDB.\n",
        "2. **`metadata`**: Additional information about the collection that helps you manage it, like description or creation timestamp.\n",
        "3. **`embedding_function`**: Defines the function used to convert your data into vector embeddings. ChromaDB uses the **AllMiniLM** transformer by default as the attribute is not explicitly stated, which is ideal for generating semantic representations of text.\n",
        "4. **HNSW Configuration**: These parameters control how the vector index is built and searched:\n",
        "   - **`hnsw:space`**: Defines the similarity function:\n",
        "     - `cosine` (default): Measures the cosine of the angle between vectors (ideal for text and semantic data).\n",
        "     - `l2`: Measures the Euclidean distance between vectors.\n",
        "     - `ip`: Uses the inner product between vectors.\n",
        "   - **`hnsw:construction_ef`**: Controls the size of the candidate list during index creation:\n",
        "     - Higher values (e.g., 200) improve accuracy but require more memory and construction time.\n",
        "     - Lower values speed up construction but might reduce accuracy.\n",
        "   - **`hnsw:search_ef`**: Controls the size of the candidate list used when searching for nearest neighbors:\n",
        "     - Higher values (e.g., 150) improve search accuracy by examining more potential neighbors.\n",
        "     - Lower values speed up search but may miss relevant results.\n",
        "   - **`hnsw:M`**: Defines how many neighbors each node can have in the graph:\n",
        "     - Higher values (e.g., 32) create a denser graph, improving recall and accuracy but increasing memory and computation.\n",
        "     - Lower values (e.g., 16) create a sparser graph, using less memory but sacrificing some search accuracy."
      ]
    },
    {
      "cell_type": "code",
      "execution_count": null,
      "id": "Ml4JRynVAHPn",
      "metadata": {
        "id": "Ml4JRynVAHPn"
      },
      "outputs": [],
      "source": [
        "from datetime import datetime\n",
        "\n",
        "collection = chroma_client.create_collection(\n",
        "    name='my_collection',\n",
        "    metadata={\n",
        "        'description': 'A sample diverse dataset',\n",
        "        'created': str(datetime.now()),\n",
        "        'hnsw:space': 'cosine',\n",
        "        'hnsw:construction_ef': 100,\n",
        "        'hnsw:search_ef': 100,\n",
        "        'hnsw:M': 32\n",
        "    }\n",
        ")"
      ]
    },
    {
      "cell_type": "markdown",
      "id": "QVCuW8HsAABN",
      "metadata": {
        "id": "QVCuW8HsAABN"
      },
      "source": [
        "## 5. Preparing a Dataset\n",
        "\n",
        "Let’s create a dataset with words, metadata, and IDs. This will help demonstrate various use cases effectively:"
      ]
    },
    {
      "cell_type": "code",
      "execution_count": null,
      "id": "J0MUWhsd_44y",
      "metadata": {
        "id": "J0MUWhsd_44y"
      },
      "outputs": [],
      "source": [
        "data = {\n",
        "    'documents': ['apple', 'banana', 'cherry', 'car', 'truck', 'bicycle',\n",
        "                  'dog', 'cat', 'hamster', 'tree', 'flower', 'mountain',\n",
        "                  'laptop', 'smartphone', 'television', 'song', 'poem', 'novel',\n",
        "                  'ocean', 'river', 'lake', 'piano', 'guitar', 'drum'],\n",
        "    'metadatas': [\n",
        "        {'type': 'fruit', 'category': 'food'},\n",
        "        {'type': 'fruit', 'category': 'food'},\n",
        "        {'type': 'fruit', 'category': 'food'},\n",
        "        {'type': 'vehicle', 'category': 'transport'},\n",
        "        {'type': 'vehicle', 'category': 'transport'},\n",
        "        {'type': 'vehicle', 'category': 'transport'},\n",
        "        {'type': 'animal', 'category': 'pet'},\n",
        "        {'type': 'animal', 'category': 'pet'},\n",
        "        {'type': 'animal', 'category': 'pet'},\n",
        "        {'type': 'plant', 'category': 'nature'},\n",
        "        {'type': 'plant', 'category': 'nature'},\n",
        "        {'type': 'landscape', 'category': 'nature'},\n",
        "        {'type': 'electronics', 'category': 'technology'},\n",
        "        {'type': 'electronics', 'category': 'technology'},\n",
        "        {'type': 'electronics', 'category': 'technology'},\n",
        "        {'type': 'art', 'category': 'music'},\n",
        "        {'type': 'art', 'category': 'literature'},\n",
        "        {'type': 'art', 'category': 'literature'},\n",
        "        {'type': 'water', 'category': 'nature'},\n",
        "        {'type': 'water', 'category': 'nature'},\n",
        "        {'type': 'water', 'category': 'nature'},\n",
        "        {'type': 'instrument', 'category': 'music'},\n",
        "        {'type': 'instrument', 'category': 'music'},\n",
        "        {'type': 'instrument', 'category': 'music'}\n",
        "    ],\n",
        "    'ids': ['1', '2', '3', '4', '5', '6',\n",
        "            '7', '8', '9', '10', '11', '12',\n",
        "            '13', '14', '15', '16', '17', '18',\n",
        "            '19', '20', '21', '22', '23', '24']\n",
        "}"
      ]
    },
    {
      "cell_type": "markdown",
      "id": "vPa1ohbQBZ43",
      "metadata": {
        "id": "vPa1ohbQBZ43"
      },
      "source": [
        "## 6. Adding Data to the Collection\n",
        "\n",
        "Now, add the dataset to the collection (Additionally, you will notice a download popping up, it is for the AI model that transforms words into vectors, which means text embedding. The model is named `all-MiniLM-L6-v2`):"
      ]
    },
    {
      "cell_type": "code",
      "execution_count": null,
      "id": "xzeAumsOBcDs",
      "metadata": {
        "colab": {
          "base_uri": "https://localhost:8080/"
        },
        "id": "xzeAumsOBcDs",
        "outputId": "d59cb9ef-2603-49c3-dafe-93dcc6f65e0d"
      },
      "outputs": [],
      "source": [
        "collection.add(\n",
        "    documents=data['documents'],\n",
        "    metadatas=data['metadatas'],\n",
        "    ids=data['ids']\n",
        ")"
      ]
    },
    {
      "cell_type": "markdown",
      "id": "cllVFc6EB13K",
      "metadata": {
        "id": "cllVFc6EB13K"
      },
      "source": [
        "## 7. Viewing Collection Data"
      ]
    },
    {
      "cell_type": "markdown",
      "id": "8yf6mBnoB3y2",
      "metadata": {
        "id": "8yf6mBnoB3y2"
      },
      "source": [
        "### Peek\n",
        "Display the first 10 items in the collection:"
      ]
    },
    {
      "cell_type": "code",
      "execution_count": null,
      "id": "DLPuIE6YB6s1",
      "metadata": {
        "colab": {
          "base_uri": "https://localhost:8080/"
        },
        "id": "DLPuIE6YB6s1",
        "outputId": "9b1a638e-eac5-4346-ccf7-c0ce996a58a4"
      },
      "outputs": [],
      "source": [
        "pprint(collection.peek())"
      ]
    },
    {
      "cell_type": "markdown",
      "id": "dQXo_QaBB8fs",
      "metadata": {
        "id": "dQXo_QaBB8fs"
      },
      "source": [
        "### Count\n",
        "Get the total number of items in the collection:"
      ]
    },
    {
      "cell_type": "code",
      "execution_count": null,
      "id": "kR0JLXzjCBF6",
      "metadata": {
        "colab": {
          "base_uri": "https://localhost:8080/"
        },
        "id": "kR0JLXzjCBF6",
        "outputId": "934d9940-6317-40db-d271-98019207e56f"
      },
      "outputs": [],
      "source": [
        "print(collection.count())"
      ]
    },
    {
      "cell_type": "markdown",
      "id": "86suSYkGCE4Y",
      "metadata": {
        "id": "86suSYkGCE4Y"
      },
      "source": [
        "## 8. Querying the Collection"
      ]
    },
    {
      "cell_type": "markdown",
      "id": "93CMzVt4CFv_",
      "metadata": {
        "id": "93CMzVt4CFv_"
      },
      "source": [
        "### Query by Text\n",
        "Find similar items based on a text query:\n",
        "\n",
        "- **`query_texts`**: This is where you provide the list of text queries you want to search for. In this case, `'guitar'` is the query.\n",
        "  \n",
        "- **`n_results`**: This specifies how many results you want to retrieve. Here, we’re asking for 3 results that are most similar to the provided query text.\n",
        "\n",
        "- **`include`**: This is a list that determines which parts of the results to include. You can choose from:\n",
        "  - **`\"documents\"`**: Retrieves the original text (or document).\n",
        "  - **`\"embeddings\"`**: Retrieves the vector representation of the text.\n",
        "  - **`\"metadatas\"`**: Retrieves the metadata associated with the document.\n",
        "  - **`\"distances\"`**: Retrieves the distance (or similarity score) between the query and the retrieved items.\n"
      ]
    },
    {
      "cell_type": "code",
      "execution_count": null,
      "id": "j_rvFK-5CEPj",
      "metadata": {
        "colab": {
          "base_uri": "https://localhost:8080/"
        },
        "id": "j_rvFK-5CEPj",
        "outputId": "00f39612-0b94-4906-d135-81a46e862db5"
      },
      "outputs": [],
      "source": [
        "results = collection.query(\n",
        "    query_texts=['guitar'],\n",
        "    n_results=3,\n",
        "    include=[\"embeddings\", \"documents\", \"metadatas\", \"distances\"]\n",
        ")\n",
        "pprint(results)"
      ]
    },
    {
      "cell_type": "markdown",
      "id": "_1nLCybjDjS9",
      "metadata": {
        "id": "_1nLCybjDjS9"
      },
      "source": [
        "### Query with Metadata Filters\n",
        "Search with metadata to filter results:"
      ]
    },
    {
      "cell_type": "code",
      "execution_count": null,
      "id": "q3AOEijgDl-A",
      "metadata": {
        "colab": {
          "base_uri": "https://localhost:8080/"
        },
        "id": "q3AOEijgDl-A",
        "outputId": "94803fee-1dea-45f8-e3c8-5f77bc5a842d"
      },
      "outputs": [],
      "source": [
        "results = collection.query(\n",
        "    query_texts=['nature'],\n",
        "    n_results=5,\n",
        "    where={'category': 'nature'},\n",
        "    include=[\"embeddings\", \"documents\", \"metadatas\", \"distances\"]\n",
        ")\n",
        "pprint(results)"
      ]
    },
    {
      "cell_type": "markdown",
      "id": "LmgrOuEQEI8W",
      "metadata": {
        "id": "LmgrOuEQEI8W"
      },
      "source": [
        "### Query by Embeddings\n",
        "Use vector embeddings for search:"
      ]
    },
    {
      "cell_type": "code",
      "execution_count": null,
      "id": "0OEiFvTyEK6m",
      "metadata": {
        "colab": {
          "base_uri": "https://localhost:8080/"
        },
        "id": "0OEiFvTyEK6m",
        "outputId": "790a87ec-dd0f-422f-c3bd-d2d32d29e591"
      },
      "outputs": [],
      "source": [
        "results = collection.query(\n",
        "    query_embeddings=[np.random.rand(384)], # dimension 384 is the same as our embedding model output, which means words are transformed to 384 dimensional vectors\n",
        "    n_results=3,\n",
        "    include=[\"embeddings\", \"documents\", \"metadatas\", \"distances\"]\n",
        ")\n",
        "pprint(results)"
      ]
    },
    {
      "cell_type": "markdown",
      "id": "_Yt32gMpEqri",
      "metadata": {
        "id": "_Yt32gMpEqri"
      },
      "source": [
        "## 9. Updating and Deleting Data"
      ]
    },
    {
      "cell_type": "markdown",
      "id": "Umz_DHtcEryD",
      "metadata": {
        "id": "Umz_DHtcEryD"
      },
      "source": [
        "### Update or Upsert\n",
        "Add or update data in the collection (the key difference between `upsert` and `update` is that an upsert operation updates existing items, or adds them if they don't yet exist):"
      ]
    },
    {
      "cell_type": "code",
      "execution_count": null,
      "id": "wwxH4yTvEwCT",
      "metadata": {
        "id": "wwxH4yTvEwCT"
      },
      "outputs": [],
      "source": [
        "collection.upsert(\n",
        "    documents=['keyboard'],\n",
        "    metadatas=[{'type': 'instrument', 'category': 'music'}],\n",
        "    ids=['25']\n",
        ")"
      ]
    },
    {
      "cell_type": "code",
      "execution_count": null,
      "id": "hT2kzIvaExSq",
      "metadata": {
        "id": "hT2kzIvaExSq"
      },
      "outputs": [],
      "source": [
        "collection.update(\n",
        "    metadatas=[{'type': 'instrument', 'category': 'coding'}],\n",
        "    ids=['25']\n",
        ")"
      ]
    },
    {
      "cell_type": "markdown",
      "id": "3H_20gKqFTeJ",
      "metadata": {
        "id": "3H_20gKqFTeJ"
      },
      "source": [
        "### Delete\n",
        "Remove specific data by ID or metadata:"
      ]
    },
    {
      "cell_type": "code",
      "execution_count": null,
      "id": "L-G9I1ZaFVmI",
      "metadata": {
        "id": "L-G9I1ZaFVmI"
      },
      "outputs": [],
      "source": [
        "collection.delete(ids=['1', '2'])\n",
        "collection.delete(where={'type': 'fruit'})"
      ]
    },
    {
      "cell_type": "markdown",
      "id": "twiOKpTSFbQk",
      "metadata": {
        "id": "twiOKpTSFbQk"
      },
      "source": [
        "## 10. Wrapping Up\n",
        "\n",
        "This guide introduced ChromaDB with a focus on setup, collection management, and querying, alongside an explanation of how HNSW configuration parameters can be used to optimize the vector search process. By following these steps, you can easily manage and query your own datasets, making use of the powerful capabilities of ChromaDB for semantic search and other use cases."
      ]
    }
  ],
  "metadata": {
    "colab": {
      "provenance": []
    },
    "kernelspec": {
      "display_name": "Python 3",
      "name": "python3"
    },
    "language_info": {
      "name": "python"
    }
  },
  "nbformat": 4,
  "nbformat_minor": 5
}
